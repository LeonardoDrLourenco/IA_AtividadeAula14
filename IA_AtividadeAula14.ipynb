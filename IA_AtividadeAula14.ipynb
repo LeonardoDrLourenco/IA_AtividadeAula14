{
  "nbformat": 4,
  "nbformat_minor": 0,
  "metadata": {
    "colab": {
      "provenance": [],
      "include_colab_link": true
    },
    "kernelspec": {
      "name": "python3",
      "display_name": "Python 3"
    },
    "language_info": {
      "name": "python"
    }
  },
  "cells": [
    {
      "cell_type": "markdown",
      "metadata": {
        "id": "view-in-github",
        "colab_type": "text"
      },
      "source": [
        "<a href=\"https://colab.research.google.com/github/LeonardoDrLourenco/IA_AtividadeAula14/blob/main/IA_AtividadeAula14.ipynb\" target=\"_parent\"><img src=\"https://colab.research.google.com/assets/colab-badge.svg\" alt=\"Open In Colab\"/></a>"
      ]
    },
    {
      "cell_type": "code",
      "execution_count": 1,
      "metadata": {
        "colab": {
          "base_uri": "https://localhost:8080/"
        },
        "id": "cL8xE4PTrC0t",
        "outputId": "fe9b1c30-3421-4a11-db8b-fac5cbae9f12"
      },
      "outputs": [
        {
          "output_type": "stream",
          "name": "stdout",
          "text": [
            "Downloading data from https://www.cs.toronto.edu/~kriz/cifar-10-python.tar.gz\n",
            "170498071/170498071 [==============================] - 3s 0us/step\n",
            "Epoch 1/10\n",
            "1563/1563 [==============================] - 77s 48ms/step - loss: 1.4701 - accuracy: 0.4679 - val_loss: 1.1931 - val_accuracy: 0.5724\n",
            "Epoch 2/10\n",
            "1563/1563 [==============================] - 75s 48ms/step - loss: 1.0765 - accuracy: 0.6194 - val_loss: 1.0568 - val_accuracy: 0.6342\n",
            "Epoch 3/10\n",
            "1563/1563 [==============================] - 72s 46ms/step - loss: 0.9054 - accuracy: 0.6812 - val_loss: 0.9035 - val_accuracy: 0.6869\n",
            "Epoch 4/10\n",
            "1563/1563 [==============================] - 72s 46ms/step - loss: 0.7870 - accuracy: 0.7225 - val_loss: 0.8668 - val_accuracy: 0.7035\n",
            "Epoch 5/10\n",
            "1563/1563 [==============================] - 72s 46ms/step - loss: 0.6892 - accuracy: 0.7592 - val_loss: 0.8341 - val_accuracy: 0.7142\n",
            "Epoch 6/10\n",
            "1563/1563 [==============================] - 72s 46ms/step - loss: 0.6145 - accuracy: 0.7832 - val_loss: 0.8137 - val_accuracy: 0.7274\n",
            "Epoch 7/10\n",
            "1563/1563 [==============================] - 71s 45ms/step - loss: 0.5371 - accuracy: 0.8118 - val_loss: 0.8369 - val_accuracy: 0.7276\n",
            "Epoch 8/10\n",
            "1563/1563 [==============================] - 74s 47ms/step - loss: 0.4778 - accuracy: 0.8298 - val_loss: 0.8646 - val_accuracy: 0.7306\n",
            "Epoch 9/10\n",
            "1563/1563 [==============================] - 74s 47ms/step - loss: 0.4103 - accuracy: 0.8543 - val_loss: 0.9217 - val_accuracy: 0.7104\n",
            "Epoch 10/10\n",
            "1563/1563 [==============================] - 72s 46ms/step - loss: 0.3544 - accuracy: 0.8740 - val_loss: 0.9885 - val_accuracy: 0.7162\n",
            "313/313 [==============================] - 4s 12ms/step - loss: 0.9885 - accuracy: 0.7162\n",
            "Test accuracy: 0.7161999940872192\n"
          ]
        }
      ],
      "source": [
        "import tensorflow as tf\n",
        "from tensorflow.keras.datasets import cifar10\n",
        "from tensorflow.keras.preprocessing.image import ImageDataGenerator\n",
        "\n",
        "# Carregar os dados CIFAR-10\n",
        "(train_images, train_labels), (test_images, test_labels) = cifar10.load_data()\n",
        "\n",
        "# Pré-processamento das imagens\n",
        "train_images = train_images / 255.0\n",
        "test_images = test_images / 255.0\n",
        "\n",
        "# Definir o modelo CNN\n",
        "model = tf.keras.models.Sequential([\n",
        "    tf.keras.layers.Conv2D(32, (3, 3), activation='relu', input_shape=(32, 32, 3)),\n",
        "    tf.keras.layers.MaxPooling2D((2, 2)),\n",
        "    tf.keras.layers.Conv2D(64, (3, 3), activation='relu'),\n",
        "    tf.keras.layers.MaxPooling2D((2, 2)),\n",
        "    tf.keras.layers.Conv2D(128, (3, 3), activation='relu'),\n",
        "    tf.keras.layers.MaxPooling2D((2, 2)),\n",
        "    tf.keras.layers.Flatten(),\n",
        "    tf.keras.layers.Dense(512, activation='relu'),\n",
        "    tf.keras.layers.Dense(10, activation='softmax')\n",
        "])\n",
        "\n",
        "# Compilar o modelo\n",
        "model.compile(optimizer='adam',\n",
        "              loss='sparse_categorical_crossentropy',\n",
        "              metrics=['accuracy'])\n",
        "\n",
        "# Treinar o modelo\n",
        "history = model.fit(train_images, train_labels, epochs=10, validation_data=(test_images, test_labels))\n",
        "\n",
        "# Avaliar o modelo\n",
        "test_loss, test_acc = model.evaluate(test_images, test_labels)\n",
        "\n",
        "print('Test accuracy:', test_acc)\n"
      ]
    },
    {
      "cell_type": "code",
      "source": [
        "model.save('modelo_cifar10.h5')"
      ],
      "metadata": {
        "colab": {
          "base_uri": "https://localhost:8080/"
        },
        "id": "zPiESjh6Ug-9",
        "outputId": "e74e8d5b-8404-478d-c23f-bc3081a43e96"
      },
      "execution_count": 2,
      "outputs": [
        {
          "output_type": "stream",
          "name": "stderr",
          "text": [
            "/usr/local/lib/python3.10/dist-packages/keras/src/engine/training.py:3103: UserWarning: You are saving your model as an HDF5 file via `model.save()`. This file format is considered legacy. We recommend using instead the native Keras format, e.g. `model.save('my_model.keras')`.\n",
            "  saving_api.save_model(\n"
          ]
        }
      ]
    },
    {
      "cell_type": "code",
      "source": [
        "import tensorflow as tf\n",
        "import numpy as np\n",
        "from tensorflow.keras.preprocessing import image\n",
        "\n",
        "# Carregar o modelo treinado\n",
        "model = tf.keras.models.load_model('modelo_cifar10.h5')\n",
        "\n",
        "# Lista de caminhos de imagem\n",
        "image_paths = ['/content/imagens/aviao.jpg', '/content/imagens/aviao2.jpg', '/content/imagens/cachorro.jpg',\n",
        "               '/content/imagens/cachorro2.jpg', '/content/imagens/caminhao2.jpg', '/content/imagens/caminhao2.jpg',\n",
        "               '/content/imagens/carro2.jpg', '/content/imagens/carro.jpg', '/content/imagens/cavalo.jpg',\n",
        "               '/content/imagens/cavalo2.jpg', '/content/imagens/cervo.jpg', '/content/imagens/cervo2.jpg',\n",
        "               '/content/imagens/gato.jpg', '/content/imagens/gato2.jpg', '/content/imagens/navio.jpg',\n",
        "               '/content/imagens/navio3.jpg', '/content/imagens/passaro2.jpg', '/content/imagens/passaro4.jpg',\n",
        "               '/content/imagens/sapo2.jpg', '/content/imagens/sapo3.jpg'\n",
        "               ]\n",
        "\n",
        "imagens_analisadas = 0\n",
        "\n",
        "# Enquanto houver imagens na lista e enquanto não tiver analisado mais de 20 imagens\n",
        "while image_paths and imagens_analisadas < 20:\n",
        "    # Carregar uma nova imagem\n",
        "    image_path = image_paths.pop(0)\n",
        "    img = image.load_img(image_path, target_size=(32, 32))\n",
        "    img_array = image.img_to_array(img)\n",
        "    img_array = np.expand_dims(img_array, axis=0)\n",
        "    img_array /= 255.0  # Normalização\n",
        "\n",
        "    # Fazer a previsão\n",
        "    prediction = model.predict(img_array)\n",
        "    predicted_class = np.argmax(prediction)\n",
        "\n",
        "    # Mapear o número da classe para o nome da classe\n",
        "    class_names = ['avião', 'automóvel', 'pássaro', 'gato', 'cervo', 'cachorro', 'sapo', 'cavalo', 'navio', 'caminhão']\n",
        "    predicted_label = class_names[predicted_class]\n",
        "\n",
        "    print('Predicted class for', image_path, ':', predicted_label)\n",
        "\n",
        "    # Incrementa o contador de imagens analisadas\n",
        "    imagens_analisadas += 1\n"
      ],
      "metadata": {
        "colab": {
          "base_uri": "https://localhost:8080/"
        },
        "id": "NlMJgunnsVeR",
        "outputId": "b5f2ca3f-8f4c-4928-b1dc-2e6477b21957"
      },
      "execution_count": 12,
      "outputs": [
        {
          "output_type": "stream",
          "name": "stdout",
          "text": [
            "1/1 [==============================] - 0s 119ms/step\n",
            "Predicted class for /content/imagens/aviao.jpg : avião\n",
            "1/1 [==============================] - 0s 33ms/step\n",
            "Predicted class for /content/imagens/aviao2.jpg : avião\n",
            "1/1 [==============================] - 0s 35ms/step\n",
            "Predicted class for /content/imagens/cachorro.jpg : cachorro\n",
            "1/1 [==============================] - 0s 35ms/step\n",
            "Predicted class for /content/imagens/cachorro2.jpg : cavalo\n",
            "1/1 [==============================] - 0s 36ms/step\n",
            "Predicted class for /content/imagens/caminhao2.jpg : caminhão\n",
            "1/1 [==============================] - 0s 33ms/step\n",
            "Predicted class for /content/imagens/caminhao2.jpg : caminhão\n",
            "1/1 [==============================] - 0s 35ms/step\n",
            "Predicted class for /content/imagens/carro2.jpg : caminhão\n",
            "1/1 [==============================] - 0s 32ms/step\n",
            "Predicted class for /content/imagens/carro.jpg : automóvel\n",
            "1/1 [==============================] - 0s 24ms/step\n",
            "Predicted class for /content/imagens/cavalo.jpg : cavalo\n",
            "1/1 [==============================] - 0s 20ms/step\n",
            "Predicted class for /content/imagens/cavalo2.jpg : avião\n",
            "1/1 [==============================] - 0s 22ms/step\n",
            "Predicted class for /content/imagens/cervo.jpg : cervo\n",
            "1/1 [==============================] - 0s 21ms/step\n",
            "Predicted class for /content/imagens/cervo2.jpg : cervo\n",
            "1/1 [==============================] - 0s 21ms/step\n",
            "Predicted class for /content/imagens/gato.jpg : cavalo\n",
            "1/1 [==============================] - 0s 20ms/step\n",
            "Predicted class for /content/imagens/gato2.jpg : gato\n",
            "1/1 [==============================] - 0s 32ms/step\n",
            "Predicted class for /content/imagens/navio.jpg : cervo\n",
            "1/1 [==============================] - 0s 24ms/step\n",
            "Predicted class for /content/imagens/navio3.jpg : navio\n",
            "1/1 [==============================] - 0s 21ms/step\n",
            "Predicted class for /content/imagens/passaro2.jpg : pássaro\n",
            "1/1 [==============================] - 0s 25ms/step\n",
            "Predicted class for /content/imagens/passaro4.jpg : pássaro\n",
            "1/1 [==============================] - 0s 23ms/step\n",
            "Predicted class for /content/imagens/sapo2.jpg : cachorro\n",
            "1/1 [==============================] - 0s 20ms/step\n",
            "Predicted class for /content/imagens/sapo3.jpg : sapo\n"
          ]
        }
      ]
    }
  ]
}